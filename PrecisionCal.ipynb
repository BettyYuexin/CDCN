{
 "cells": [
  {
   "cell_type": "code",
   "execution_count": 1,
   "id": "f6bb22b7",
   "metadata": {
    "ExecuteTime": {
     "end_time": "2023-05-10T11:40:33.054115Z",
     "start_time": "2023-05-10T11:40:08.679993Z"
    }
   },
   "outputs": [],
   "source": [
    "from __future__ import print_function, division\n",
    "import torch\n",
    "import matplotlib.pyplot as plt\n",
    "import argparse,os\n",
    "import pandas as pd\n",
    "import cv2\n",
    "import numpy as np\n",
    "import random\n",
    "import math\n",
    "from torch.utils.data import Dataset, DataLoader\n",
    "from torchvision import transforms\n",
    "from models.CDCNs import Conv2d_cd, CDCN, CDCNpp\n",
    "from Load_OULUNPU_train import Spoofing_train, Normaliztion, ToTensor, RandomHorizontalFlip, Cutout, RandomErasing\n",
    "from Load_OULUNPU_valtest import Spoofing_valtest, Normaliztion_valtest, ToTensor_valtest\n",
    "from Load_Single_Img import getTestImg\n",
    "import torch.nn.functional as F\n",
    "from torch.autograd import Variable\n",
    "import torch.nn as nn\n",
    "import torch.optim as optim\n",
    "import copy\n",
    "import pdb\n",
    "from utils import AvgrageMeter, accuracy, performances\n",
    "import torchvision.utils as vutils\n",
    "\n",
    "# Dataset root\n",
    "train_image_dir = '/mnt/hdd.user/datasets/Oulu-NPU/Train_files/'\n",
    "val_image_dir = '/mnt/hdd.user/datasets/Oulu-NPU/Dev_files/'\n",
    "test_image_dir = '/mnt/hdd.user/datasets/Oulu-NPU/Test_files/'\n",
    "# 文件夹内包含原来的视频.avi文件和其中每一帧的图像1_1_01_1_frame92.jpg\n",
    "# 以及每一帧的ROi region of interest在.txt文件中 文件内容类似0,455,779,638,756\n",
    "train_dat_dir = '/mnt/hdd.user/datasets/Oulu-NPU/Train_dat/'\n",
    "val_dat_dir = '/mnt/hdd.user/datasets/Oulu-NPU/Dev_dat/'\n",
    "test_dat_dir = '/mnt/hdd.user/datasets/Oulu-NPU/Test_dat/'\n",
    "\n",
    "map_dir = '/mnt/hdd.user/datasets/Oulu-NPU/Train_depth/'\n",
    "val_map_dir = '/mnt/hdd.user/datasets/Oulu-NPU/Dev_depth/'\n",
    "test_map_dir = '/mnt/hdd.user/datasets/Oulu-NPU/Test_depth/'\n",
    "# 文件名1_2_11_3_frame140_depth.jpg\n",
    "\n",
    "train_list = '/mnt/hdd.user/datasets/Oulu-NPU/Protocols/Protocol_1/Train.txt'\n",
    "val_list = '/mnt/hdd.user/datasets/Oulu-NPU/Protocols/Protocol_1/Dev.txt'\n",
    "test_list = '/mnt/hdd.user/datasets/Oulu-NPU/Protocols/Protocol_1/Test.txt'\n",
    "# 文件都会在’train.txt’、'Dev.txt’和’Test.txt’中存放训练、验证、测试建议方法的视频文件列表。这些文件的组织如下：\n",
    "\n",
    "device = torch.device(\"cuda:8\")"
   ]
  },
  {
   "cell_type": "code",
   "execution_count": 2,
   "id": "c60f4724",
   "metadata": {
    "ExecuteTime": {
     "end_time": "2023-05-10T11:40:33.066863Z",
     "start_time": "2023-05-10T11:40:33.057195Z"
    }
   },
   "outputs": [],
   "source": [
    "class Contrast_depth_loss(nn.Module):    # Pearson range [-1, 1] so if < 0, abs|loss| ; if >0, 1- loss\n",
    "    def __init__(self):\n",
    "        super(Contrast_depth_loss,self).__init__()\n",
    "        return\n",
    "    def forward(self, out, label): \n",
    "        '''\n",
    "        compute contrast depth in both of (out, label),\n",
    "        then get the loss of them\n",
    "        tf.atrous_convd match tf-versions: 1.4\n",
    "        '''\n",
    "        # 根据out和label分别构造depth_conv，之后计算mseloss\n",
    "        contrast_out = contrast_depth_conv(out)\n",
    "        contrast_label = contrast_depth_conv(label)\n",
    "        \n",
    "        \n",
    "        criterion_MSE = nn.MSELoss().to(device)\n",
    "    \n",
    "        loss = criterion_MSE(contrast_out, contrast_label)\n",
    "        #loss = torch.pow(contrast_out - contrast_label, 2)\n",
    "        #loss = torch.mean(loss)\n",
    "    \n",
    "        return loss\n",
    "    \n",
    "criterion_absolute_loss = nn.MSELoss().to(device)\n",
    "criterion_contrastive_loss = Contrast_depth_loss().to(device)"
   ]
  },
  {
   "cell_type": "code",
   "execution_count": 3,
   "id": "3132ede4",
   "metadata": {
    "ExecuteTime": {
     "end_time": "2023-05-10T11:40:35.309916Z",
     "start_time": "2023-05-10T11:40:33.074733Z"
    }
   },
   "outputs": [
    {
     "name": "stdout",
     "output_type": "stream",
     "text": [
      "Namespace(batchsize=7, echo_batches=50, epochs=1300, finetune=False, gamma=0.5, gpu=1, log='CDCNpp_P1', lr=0.0001, step_size=500)\n"
     ]
    }
   ],
   "source": [
    "parser = argparse.ArgumentParser()\n",
    "parser.add_argument('--gpu', type=int, default=1, help='the gpu id used for predict')\n",
    "parser.add_argument('--lr', type=float, default=0.0001, help='initial learning rate')  \n",
    "parser.add_argument('--batchsize', type=int, default=7, help='initial batchsize')  \n",
    "parser.add_argument('--step_size', type=int, default=500, help='how many epochs lr decays once')  # 500 \n",
    "parser.add_argument('--gamma', type=float, default=0.5, help='gamma of optim.lr_scheduler.StepLR, decay of lr')\n",
    "parser.add_argument('--echo_batches', type=int, default=50, help='how many batches display once')  # 50\n",
    "parser.add_argument('--epochs', type=int, default=1300, help='total training epochs')\n",
    "parser.add_argument('--log', type=str, default=\"CDCNpp_P1\", help='log and save model name')\n",
    "parser.add_argument('--finetune', action='store_true', default=False, help='whether finetune other models')\n",
    "\n",
    "args = parser.parse_args(args=[])\n",
    "print(args)\n",
    "\n",
    "epsilon = 1e-2"
   ]
  },
  {
   "cell_type": "code",
   "execution_count": 4,
   "id": "9c97caf9",
   "metadata": {
    "ExecuteTime": {
     "end_time": "2023-05-10T19:02:43.954926Z",
     "start_time": "2023-05-10T11:40:35.311906Z"
    }
   },
   "outputs": [
    {
     "name": "stderr",
     "output_type": "stream",
     "text": [
      "/opt/conda/lib/python3.8/site-packages/torch/nn/functional.py:718: UserWarning: Named tensors and all their associated APIs are an experimental feature and subject to change. Please do not use them for anything important until they are released as stable. (Triggered internally at  /pytorch/c10/core/TensorImpl.h:1156.)\n",
      "  return torch.max_pool2d(input, kernel_size, stride, padding, dilation, ceil_mode)\n",
      "/opt/conda/lib/python3.8/site-packages/torch/nn/functional.py:3609: UserWarning: Default upsampling behavior when mode=bilinear is changed to align_corners=False since 0.4.0. Please specify align_corners=True if the old behavior is desired. See the documentation of nn.Upsample for details.\n",
      "  warnings.warn(\n"
     ]
    },
    {
     "name": "stdout",
     "output_type": "stream",
     "text": [
      "epoch:1, Val:  val_threshold= 13317.5361, val_ACC= 0.9989, val_ACER= 0.0028\n",
      "epoch:1, Test:  ACC= 1.0000, APCER= 0.0000, BPCER= 0.0000, ACER= 0.0000\n"
     ]
    },
    {
     "name": "stderr",
     "output_type": "stream",
     "text": [
      "/opt/conda/lib/python3.8/site-packages/torch/nn/functional.py:3609: UserWarning: Default upsampling behavior when mode=bilinear is changed to align_corners=False since 0.4.0. Please specify align_corners=True if the old behavior is desired. See the documentation of nn.Upsample for details.\n",
      "  warnings.warn(\n"
     ]
    },
    {
     "name": "stdout",
     "output_type": "stream",
     "text": [
      "epoch:51, Val:  val_threshold= 13223.8213, val_ACC= 0.9989, val_ACER= 0.0028\n",
      "epoch:51, Test:  ACC= 1.0000, APCER= 0.0000, BPCER= 0.0000, ACER= 0.0000\n"
     ]
    },
    {
     "name": "stderr",
     "output_type": "stream",
     "text": [
      "/opt/conda/lib/python3.8/site-packages/torch/nn/functional.py:3609: UserWarning: Default upsampling behavior when mode=bilinear is changed to align_corners=False since 0.4.0. Please specify align_corners=True if the old behavior is desired. See the documentation of nn.Upsample for details.\n",
      "  warnings.warn(\n"
     ]
    },
    {
     "name": "stdout",
     "output_type": "stream",
     "text": [
      "epoch:101, Val:  val_threshold= 13228.9287, val_ACC= 0.9989, val_ACER= 0.0028\n",
      "epoch:101, Test:  ACC= 1.0000, APCER= 0.0000, BPCER= 0.0000, ACER= 0.0000\n"
     ]
    },
    {
     "name": "stderr",
     "output_type": "stream",
     "text": [
      "/opt/conda/lib/python3.8/site-packages/torch/nn/functional.py:3609: UserWarning: Default upsampling behavior when mode=bilinear is changed to align_corners=False since 0.4.0. Please specify align_corners=True if the old behavior is desired. See the documentation of nn.Upsample for details.\n",
      "  warnings.warn(\n"
     ]
    },
    {
     "name": "stdout",
     "output_type": "stream",
     "text": [
      "epoch:151, Val:  val_threshold= 13211.5215, val_ACC= 0.9989, val_ACER= 0.0028\n",
      "epoch:151, Test:  ACC= 1.0000, APCER= 0.0000, BPCER= 0.0000, ACER= 0.0000\n"
     ]
    },
    {
     "name": "stderr",
     "output_type": "stream",
     "text": [
      "/opt/conda/lib/python3.8/site-packages/torch/nn/functional.py:3609: UserWarning: Default upsampling behavior when mode=bilinear is changed to align_corners=False since 0.4.0. Please specify align_corners=True if the old behavior is desired. See the documentation of nn.Upsample for details.\n",
      "  warnings.warn(\n"
     ]
    },
    {
     "name": "stdout",
     "output_type": "stream",
     "text": [
      "epoch:201, Val:  val_threshold= 13218.7803, val_ACC= 0.9989, val_ACER= 0.0028\n",
      "epoch:201, Test:  ACC= 1.0000, APCER= 0.0000, BPCER= 0.0000, ACER= 0.0000\n"
     ]
    },
    {
     "name": "stderr",
     "output_type": "stream",
     "text": [
      "/opt/conda/lib/python3.8/site-packages/torch/nn/functional.py:3609: UserWarning: Default upsampling behavior when mode=bilinear is changed to align_corners=False since 0.4.0. Please specify align_corners=True if the old behavior is desired. See the documentation of nn.Upsample for details.\n",
      "  warnings.warn(\n"
     ]
    },
    {
     "name": "stdout",
     "output_type": "stream",
     "text": [
      "epoch:251, Val:  val_threshold= 13213.6328, val_ACC= 0.9989, val_ACER= 0.0028\n",
      "epoch:251, Test:  ACC= 1.0000, APCER= 0.0000, BPCER= 0.0000, ACER= 0.0000\n"
     ]
    },
    {
     "name": "stderr",
     "output_type": "stream",
     "text": [
      "/opt/conda/lib/python3.8/site-packages/torch/nn/functional.py:3609: UserWarning: Default upsampling behavior when mode=bilinear is changed to align_corners=False since 0.4.0. Please specify align_corners=True if the old behavior is desired. See the documentation of nn.Upsample for details.\n",
      "  warnings.warn(\n"
     ]
    },
    {
     "name": "stdout",
     "output_type": "stream",
     "text": [
      "epoch:301, Val:  val_threshold= 13210.9287, val_ACC= 0.9989, val_ACER= 0.0028\n",
      "epoch:301, Test:  ACC= 1.0000, APCER= 0.0000, BPCER= 0.0000, ACER= 0.0000\n"
     ]
    },
    {
     "name": "stderr",
     "output_type": "stream",
     "text": [
      "/opt/conda/lib/python3.8/site-packages/torch/nn/functional.py:3609: UserWarning: Default upsampling behavior when mode=bilinear is changed to align_corners=False since 0.4.0. Please specify align_corners=True if the old behavior is desired. See the documentation of nn.Upsample for details.\n",
      "  warnings.warn(\n"
     ]
    },
    {
     "name": "stdout",
     "output_type": "stream",
     "text": [
      "epoch:351, Val:  val_threshold= 13215.8340, val_ACC= 0.9989, val_ACER= 0.0028\n",
      "epoch:351, Test:  ACC= 1.0000, APCER= 0.0000, BPCER= 0.0000, ACER= 0.0000\n"
     ]
    },
    {
     "name": "stderr",
     "output_type": "stream",
     "text": [
      "/opt/conda/lib/python3.8/site-packages/torch/nn/functional.py:3609: UserWarning: Default upsampling behavior when mode=bilinear is changed to align_corners=False since 0.4.0. Please specify align_corners=True if the old behavior is desired. See the documentation of nn.Upsample for details.\n",
      "  warnings.warn(\n"
     ]
    },
    {
     "name": "stdout",
     "output_type": "stream",
     "text": [
      "epoch:401, Val:  val_threshold= 13220.4434, val_ACC= 0.9989, val_ACER= 0.0028\n",
      "epoch:401, Test:  ACC= 1.0000, APCER= 0.0000, BPCER= 0.0000, ACER= 0.0000\n"
     ]
    },
    {
     "name": "stderr",
     "output_type": "stream",
     "text": [
      "/opt/conda/lib/python3.8/site-packages/torch/nn/functional.py:3609: UserWarning: Default upsampling behavior when mode=bilinear is changed to align_corners=False since 0.4.0. Please specify align_corners=True if the old behavior is desired. See the documentation of nn.Upsample for details.\n",
      "  warnings.warn(\n"
     ]
    },
    {
     "name": "stdout",
     "output_type": "stream",
     "text": [
      "epoch:451, Val:  val_threshold= 13216.6025, val_ACC= 0.9989, val_ACER= 0.0028\n",
      "epoch:451, Test:  ACC= 1.0000, APCER= 0.0000, BPCER= 0.0000, ACER= 0.0000\n"
     ]
    },
    {
     "name": "stderr",
     "output_type": "stream",
     "text": [
      "/opt/conda/lib/python3.8/site-packages/torch/nn/functional.py:3609: UserWarning: Default upsampling behavior when mode=bilinear is changed to align_corners=False since 0.4.0. Please specify align_corners=True if the old behavior is desired. See the documentation of nn.Upsample for details.\n",
      "  warnings.warn(\n"
     ]
    },
    {
     "name": "stdout",
     "output_type": "stream",
     "text": [
      "epoch:501, Val:  val_threshold= 13219.8096, val_ACC= 0.9989, val_ACER= 0.0028\n",
      "epoch:501, Test:  ACC= 1.0000, APCER= 0.0000, BPCER= 0.0000, ACER= 0.0000\n",
      "Finished!\n"
     ]
    }
   ],
   "source": [
    "log_file = open(args.log+'/'+ args.log+'_log_val_test.txt', 'w')\n",
    "\n",
    "log_file.write('Validation and Test:\\n')\n",
    "log_file.flush()\n",
    "\n",
    "for i in range(11):\n",
    "    epoch = i * 50 + 1\n",
    "    model_state_dict = torch.load(f\"./CDCNpp_P1/CDCNpp_P1_{epoch}.pkl\", map_location={'cuda:7':'cuda:8'})\n",
    "    model = CDCNpp(basic_conv=Conv2d_cd, theta=0.7)\n",
    "    model.load_state_dict(model_state_dict)\n",
    "    model.eval()\n",
    "    model.to(device)\n",
    "\n",
    "    with torch.no_grad():\n",
    "        ###########################################\n",
    "        '''                val             '''\n",
    "        ###########################################\n",
    "        # val for threshold\n",
    "        val_data = Spoofing_valtest(val_list, val_image_dir, val_map_dir, val_dat_dir, transform=transforms.Compose([Normaliztion_valtest(), ToTensor_valtest()]))\n",
    "        dataloader_val = DataLoader(val_data, batch_size=1, shuffle=False, num_workers=1)\n",
    "\n",
    "        map_score_list = []\n",
    "        criterion_MSE = nn.MSELoss().to(device)\n",
    "\n",
    "        for i, sample_batched in enumerate(dataloader_val):\n",
    "            # get the inputs\n",
    "            inputs, spoof_label = sample_batched['image_x'].to(device), sample_batched['spoofing_label'].to(device)\n",
    "            val_maps = sample_batched['val_map_x'].to(device)   # binary map from PRNet\n",
    "\n",
    "            #pdb.set_trace()\n",
    "            map_score = 0.0\n",
    "            for frame_t in range(inputs.shape[1]):\n",
    "                map_x, embedding, x_Block1, x_Block2, x_Block3, x_input =  model(inputs[:,frame_t,:,:,:])\n",
    "                score_norm = criterion_MSE(map_x, val_maps[:,frame_t,:,:])\n",
    "                map_score += score_norm\n",
    "            map_score = map_score/inputs.shape[1]\n",
    "\n",
    "            map_score_list.append('{} {}\\n'.format(map_score, spoof_label[0][0]))\n",
    "\n",
    "            #pdb.set_trace()\n",
    "        map_score_val_filename2 = args.log+'/'+ args.log+'_map_score_val2.txt'\n",
    "        with open(map_score_val_filename2, 'w') as file:\n",
    "            file.writelines(map_score_list)                \n",
    "\n",
    "        ###########################################\n",
    "        '''                test             '''\n",
    "        ##########################################\n",
    "        # test for ACC\n",
    "        test_data = Spoofing_valtest(test_list, test_image_dir, test_map_dir, test_dat_dir, transform=transforms.Compose([Normaliztion_valtest(), ToTensor_valtest()]))\n",
    "        dataloader_test = DataLoader(test_data, batch_size=1, shuffle=False, num_workers=1)\n",
    "\n",
    "        map_score_list = []\n",
    "\n",
    "        for i, sample_batched in enumerate(dataloader_test):\n",
    "            # get the inputs\n",
    "            inputs, spoof_label = sample_batched['image_x'].to(device), sample_batched['spoofing_label'].to(device)\n",
    "            test_maps = sample_batched['val_map_x'].to(device)   # binary map from PRNet \n",
    "\n",
    "\n",
    "            #pdb.set_trace()\n",
    "            map_score = 0.0\n",
    "            for frame_t in range(inputs.shape[1]):\n",
    "                map_x, embedding, x_Block1, x_Block2, x_Block3, x_input =  model(inputs[:,frame_t,:,:,:])\n",
    "                score_norm = criterion_MSE(map_x, test_maps[:,frame_t,:,:])\n",
    "                map_score += score_norm\n",
    "            map_score = map_score/inputs.shape[1]\n",
    "\n",
    "            map_score_list.append('{} {}\\n'.format(map_score, spoof_label[0][0]))\n",
    "\n",
    "        map_score_test_filename2 = args.log+'/'+ args.log+'_map_score_test2.txt'\n",
    "        with open(map_score_test_filename2, 'w') as file:\n",
    "            file.writelines(map_score_list)    \n",
    "\n",
    "        #############################################################     \n",
    "        #       performance measurement both val and test\n",
    "        #############################################################     \n",
    "        val_threshold, test_threshold, val_ACC, val_ACER, test_ACC, test_APCER, test_BPCER, test_ACER, test_ACER_test_threshold = performances(map_score_val_filename2, map_score_test_filename2)\n",
    "\n",
    "        print('epoch:%d, Val:  val_threshold= %.4f, val_ACC= %.4f, val_ACER= %.4f' % (epoch, val_threshold, val_ACC, val_ACER))\n",
    "        log_file.write('\\n epoch:%d, Val:  val_threshold= %.4f, val_ACC= %.4f, val_ACER= %.4f \\n' % (epoch + 1, val_threshold, val_ACC, val_ACER))\n",
    "\n",
    "        print('epoch:%d, Test:  ACC= %.4f, APCER= %.4f, BPCER= %.4f, ACER= %.4f' % (epoch, test_ACC, test_APCER, test_BPCER, test_ACER))\n",
    "        #print('epoch:%d, Test:  test_threshold= %.4f, test_ACER_test_threshold= %.4f\\n' % (epoch + 1, test_threshold, test_ACER_test_threshold))\n",
    "        log_file.write('epoch:%d, Test:  ACC= %.4f, APCER= %.4f, BPCER= %.4f, ACER= %.4f \\n' % (epoch, test_ACC, test_APCER, test_BPCER, test_ACER))\n",
    "        #log_file.write('epoch:%d, Test:  test_threshold= %.4f, test_ACER_test_threshold= %.4f \\n\\n' % (epoch + 1, test_threshold, test_ACER_test_threshold))\n",
    "        log_file.flush()\n",
    "\n",
    "log_file.close()\n",
    "print(\"Finished!\")"
   ]
  },
  {
   "cell_type": "code",
   "execution_count": null,
   "id": "40074706",
   "metadata": {},
   "outputs": [],
   "source": []
  }
 ],
 "metadata": {
  "kernelspec": {
   "display_name": "Python 3",
   "language": "python",
   "name": "python3"
  },
  "language_info": {
   "codemirror_mode": {
    "name": "ipython",
    "version": 3
   },
   "file_extension": ".py",
   "mimetype": "text/x-python",
   "name": "python",
   "nbconvert_exporter": "python",
   "pygments_lexer": "ipython3",
   "version": "3.8.10"
  },
  "toc": {
   "base_numbering": 1,
   "nav_menu": {},
   "number_sections": false,
   "sideBar": true,
   "skip_h1_title": false,
   "title_cell": "Table of Contents",
   "title_sidebar": "Contents",
   "toc_cell": false,
   "toc_position": {},
   "toc_section_display": true,
   "toc_window_display": false
  }
 },
 "nbformat": 4,
 "nbformat_minor": 5
}
